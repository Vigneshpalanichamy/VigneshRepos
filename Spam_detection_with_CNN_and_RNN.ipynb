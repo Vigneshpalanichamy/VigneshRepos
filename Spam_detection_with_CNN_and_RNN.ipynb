{
  "nbformat": 4,
  "nbformat_minor": 0,
  "metadata": {
    "colab": {
      "name": "Spam detection with CNN and RNN.ipynb",
      "provenance": [],
      "collapsed_sections": []
    },
    "kernelspec": {
      "name": "python3",
      "display_name": "Python 3"
    }
  },
  "cells": [
    {
      "cell_type": "code",
      "metadata": {
        "colab": {
          "base_uri": "https://localhost:8080/"
        },
        "id": "FyD6w_wfNxlX",
        "outputId": "af4f55a9-ee17-41d6-84fd-2b6031d47d6c"
      },
      "source": [
        "# import the libraries \r\n",
        "\r\n",
        "import tensorflow as tf\r\n",
        "print(tf.__version__)"
      ],
      "execution_count": 34,
      "outputs": [
        {
          "output_type": "stream",
          "text": [
            "2.4.0\n"
          ],
          "name": "stdout"
        }
      ]
    },
    {
      "cell_type": "code",
      "metadata": {
        "id": "RLxZUF85QoI7"
      },
      "source": [
        "import numpy as np\r\n",
        "import pandas as pd\r\n",
        "import matplotlib.pyplot as plt"
      ],
      "execution_count": 35,
      "outputs": []
    },
    {
      "cell_type": "code",
      "metadata": {
        "id": "WANqtAUCSH6v"
      },
      "source": [
        "# to split train and test \r\n",
        "\r\n",
        "from sklearn.model_selection import train_test_split"
      ],
      "execution_count": 36,
      "outputs": []
    },
    {
      "cell_type": "code",
      "metadata": {
        "id": "JqcaMAyOSH8_"
      },
      "source": [
        "# import Tensorflow libraries \r\n",
        "\r\n",
        "from tensorflow.keras.preprocessing.text import Tokenizer\r\n",
        "from tensorflow.keras.preprocessing.sequence import pad_sequences\r\n",
        "from tensorflow.keras.layers import Dense , Input ,GlobalMaxPool1D\r\n",
        "from tensorflow.keras.layers import Conv1D , MaxPooling1D, Embedding\r\n",
        "from tensorflow.keras.models import Model"
      ],
      "execution_count": 37,
      "outputs": []
    },
    {
      "cell_type": "code",
      "metadata": {
        "id": "Eqt9ARMcSH-2"
      },
      "source": [
        "df = pd.read_csv('/content/spam.csv',encoding='ISO-8859-1')"
      ],
      "execution_count": 38,
      "outputs": []
    },
    {
      "cell_type": "code",
      "metadata": {
        "colab": {
          "base_uri": "https://localhost:8080/",
          "height": 206
        },
        "id": "Suc_NARaSIAy",
        "outputId": "cc6de09c-1856-4ac9-8b08-13d6f035c5bc"
      },
      "source": [
        "df.head()"
      ],
      "execution_count": 39,
      "outputs": [
        {
          "output_type": "execute_result",
          "data": {
            "text/html": [
              "<div>\n",
              "<style scoped>\n",
              "    .dataframe tbody tr th:only-of-type {\n",
              "        vertical-align: middle;\n",
              "    }\n",
              "\n",
              "    .dataframe tbody tr th {\n",
              "        vertical-align: top;\n",
              "    }\n",
              "\n",
              "    .dataframe thead th {\n",
              "        text-align: right;\n",
              "    }\n",
              "</style>\n",
              "<table border=\"1\" class=\"dataframe\">\n",
              "  <thead>\n",
              "    <tr style=\"text-align: right;\">\n",
              "      <th></th>\n",
              "      <th>v1</th>\n",
              "      <th>v2</th>\n",
              "      <th>Unnamed: 2</th>\n",
              "      <th>Unnamed: 3</th>\n",
              "      <th>Unnamed: 4</th>\n",
              "    </tr>\n",
              "  </thead>\n",
              "  <tbody>\n",
              "    <tr>\n",
              "      <th>0</th>\n",
              "      <td>ham</td>\n",
              "      <td>Go until jurong point, crazy.. Available only ...</td>\n",
              "      <td>NaN</td>\n",
              "      <td>NaN</td>\n",
              "      <td>NaN</td>\n",
              "    </tr>\n",
              "    <tr>\n",
              "      <th>1</th>\n",
              "      <td>ham</td>\n",
              "      <td>Ok lar... Joking wif u oni...</td>\n",
              "      <td>NaN</td>\n",
              "      <td>NaN</td>\n",
              "      <td>NaN</td>\n",
              "    </tr>\n",
              "    <tr>\n",
              "      <th>2</th>\n",
              "      <td>spam</td>\n",
              "      <td>Free entry in 2 a wkly comp to win FA Cup fina...</td>\n",
              "      <td>NaN</td>\n",
              "      <td>NaN</td>\n",
              "      <td>NaN</td>\n",
              "    </tr>\n",
              "    <tr>\n",
              "      <th>3</th>\n",
              "      <td>ham</td>\n",
              "      <td>U dun say so early hor... U c already then say...</td>\n",
              "      <td>NaN</td>\n",
              "      <td>NaN</td>\n",
              "      <td>NaN</td>\n",
              "    </tr>\n",
              "    <tr>\n",
              "      <th>4</th>\n",
              "      <td>ham</td>\n",
              "      <td>Nah I don't think he goes to usf, he lives aro...</td>\n",
              "      <td>NaN</td>\n",
              "      <td>NaN</td>\n",
              "      <td>NaN</td>\n",
              "    </tr>\n",
              "  </tbody>\n",
              "</table>\n",
              "</div>"
            ],
            "text/plain": [
              "     v1  ... Unnamed: 4\n",
              "0   ham  ...        NaN\n",
              "1   ham  ...        NaN\n",
              "2  spam  ...        NaN\n",
              "3   ham  ...        NaN\n",
              "4   ham  ...        NaN\n",
              "\n",
              "[5 rows x 5 columns]"
            ]
          },
          "metadata": {
            "tags": []
          },
          "execution_count": 39
        }
      ]
    },
    {
      "cell_type": "code",
      "metadata": {
        "id": "M2LN3SZZSIC1"
      },
      "source": [
        "df = df.drop([\"Unnamed: 2\",\"Unnamed: 3\",\"Unnamed: 4\"],axis=1)"
      ],
      "execution_count": 40,
      "outputs": []
    },
    {
      "cell_type": "code",
      "metadata": {
        "colab": {
          "base_uri": "https://localhost:8080/",
          "height": 206
        },
        "id": "vEhWNGFFSIEr",
        "outputId": "2f6867f8-feef-4bbf-df43-c65019ddc763"
      },
      "source": [
        "df.head()"
      ],
      "execution_count": 41,
      "outputs": [
        {
          "output_type": "execute_result",
          "data": {
            "text/html": [
              "<div>\n",
              "<style scoped>\n",
              "    .dataframe tbody tr th:only-of-type {\n",
              "        vertical-align: middle;\n",
              "    }\n",
              "\n",
              "    .dataframe tbody tr th {\n",
              "        vertical-align: top;\n",
              "    }\n",
              "\n",
              "    .dataframe thead th {\n",
              "        text-align: right;\n",
              "    }\n",
              "</style>\n",
              "<table border=\"1\" class=\"dataframe\">\n",
              "  <thead>\n",
              "    <tr style=\"text-align: right;\">\n",
              "      <th></th>\n",
              "      <th>v1</th>\n",
              "      <th>v2</th>\n",
              "    </tr>\n",
              "  </thead>\n",
              "  <tbody>\n",
              "    <tr>\n",
              "      <th>0</th>\n",
              "      <td>ham</td>\n",
              "      <td>Go until jurong point, crazy.. Available only ...</td>\n",
              "    </tr>\n",
              "    <tr>\n",
              "      <th>1</th>\n",
              "      <td>ham</td>\n",
              "      <td>Ok lar... Joking wif u oni...</td>\n",
              "    </tr>\n",
              "    <tr>\n",
              "      <th>2</th>\n",
              "      <td>spam</td>\n",
              "      <td>Free entry in 2 a wkly comp to win FA Cup fina...</td>\n",
              "    </tr>\n",
              "    <tr>\n",
              "      <th>3</th>\n",
              "      <td>ham</td>\n",
              "      <td>U dun say so early hor... U c already then say...</td>\n",
              "    </tr>\n",
              "    <tr>\n",
              "      <th>4</th>\n",
              "      <td>ham</td>\n",
              "      <td>Nah I don't think he goes to usf, he lives aro...</td>\n",
              "    </tr>\n",
              "  </tbody>\n",
              "</table>\n",
              "</div>"
            ],
            "text/plain": [
              "     v1                                                 v2\n",
              "0   ham  Go until jurong point, crazy.. Available only ...\n",
              "1   ham                      Ok lar... Joking wif u oni...\n",
              "2  spam  Free entry in 2 a wkly comp to win FA Cup fina...\n",
              "3   ham  U dun say so early hor... U c already then say...\n",
              "4   ham  Nah I don't think he goes to usf, he lives aro..."
            ]
          },
          "metadata": {
            "tags": []
          },
          "execution_count": 41
        }
      ]
    },
    {
      "cell_type": "code",
      "metadata": {
        "id": "z5FwHS_DUqn7"
      },
      "source": [
        "df.columns = ['labels','data']"
      ],
      "execution_count": 42,
      "outputs": []
    },
    {
      "cell_type": "code",
      "metadata": {
        "colab": {
          "base_uri": "https://localhost:8080/",
          "height": 206
        },
        "id": "V3vMf8gtUqq1",
        "outputId": "22b60b45-d94e-4f37-b3ab-aa81efeb91ea"
      },
      "source": [
        "df.head()"
      ],
      "execution_count": 43,
      "outputs": [
        {
          "output_type": "execute_result",
          "data": {
            "text/html": [
              "<div>\n",
              "<style scoped>\n",
              "    .dataframe tbody tr th:only-of-type {\n",
              "        vertical-align: middle;\n",
              "    }\n",
              "\n",
              "    .dataframe tbody tr th {\n",
              "        vertical-align: top;\n",
              "    }\n",
              "\n",
              "    .dataframe thead th {\n",
              "        text-align: right;\n",
              "    }\n",
              "</style>\n",
              "<table border=\"1\" class=\"dataframe\">\n",
              "  <thead>\n",
              "    <tr style=\"text-align: right;\">\n",
              "      <th></th>\n",
              "      <th>labels</th>\n",
              "      <th>data</th>\n",
              "    </tr>\n",
              "  </thead>\n",
              "  <tbody>\n",
              "    <tr>\n",
              "      <th>0</th>\n",
              "      <td>ham</td>\n",
              "      <td>Go until jurong point, crazy.. Available only ...</td>\n",
              "    </tr>\n",
              "    <tr>\n",
              "      <th>1</th>\n",
              "      <td>ham</td>\n",
              "      <td>Ok lar... Joking wif u oni...</td>\n",
              "    </tr>\n",
              "    <tr>\n",
              "      <th>2</th>\n",
              "      <td>spam</td>\n",
              "      <td>Free entry in 2 a wkly comp to win FA Cup fina...</td>\n",
              "    </tr>\n",
              "    <tr>\n",
              "      <th>3</th>\n",
              "      <td>ham</td>\n",
              "      <td>U dun say so early hor... U c already then say...</td>\n",
              "    </tr>\n",
              "    <tr>\n",
              "      <th>4</th>\n",
              "      <td>ham</td>\n",
              "      <td>Nah I don't think he goes to usf, he lives aro...</td>\n",
              "    </tr>\n",
              "  </tbody>\n",
              "</table>\n",
              "</div>"
            ],
            "text/plain": [
              "  labels                                               data\n",
              "0    ham  Go until jurong point, crazy.. Available only ...\n",
              "1    ham                      Ok lar... Joking wif u oni...\n",
              "2   spam  Free entry in 2 a wkly comp to win FA Cup fina...\n",
              "3    ham  U dun say so early hor... U c already then say...\n",
              "4    ham  Nah I don't think he goes to usf, he lives aro..."
            ]
          },
          "metadata": {
            "tags": []
          },
          "execution_count": 43
        }
      ]
    },
    {
      "cell_type": "code",
      "metadata": {
        "id": "LiJdZQytUqtR"
      },
      "source": [
        "# Create binary labels (0 and 1)\r\n",
        "\r\n",
        "df['b_labels']=df['labels'].map({'ham':0,'spam':1})\r\n",
        "y = df['b_labels'].values"
      ],
      "execution_count": 44,
      "outputs": []
    },
    {
      "cell_type": "code",
      "metadata": {
        "colab": {
          "base_uri": "https://localhost:8080/"
        },
        "id": "G8sC8dtfUqvg",
        "outputId": "2267aa51-4b63-436c-95b8-ade2ea1f9def"
      },
      "source": [
        "y"
      ],
      "execution_count": 45,
      "outputs": [
        {
          "output_type": "execute_result",
          "data": {
            "text/plain": [
              "array([0, 0, 1, ..., 0, 0, 0])"
            ]
          },
          "metadata": {
            "tags": []
          },
          "execution_count": 45
        }
      ]
    },
    {
      "cell_type": "code",
      "metadata": {
        "id": "rHXx6oSUUqxU"
      },
      "source": [
        "# split the data \r\n",
        "\r\n",
        "x_train,x_test,y_train,y_test = train_test_split(df['data'],y,test_size=0.3)"
      ],
      "execution_count": 46,
      "outputs": []
    },
    {
      "cell_type": "code",
      "metadata": {
        "id": "2Nsr0aeIUqzq"
      },
      "source": [
        "# Convert sentence to sequence \r\n",
        "# bag of words\r\n",
        "max_vocab_size = 20000\r\n",
        "tokenizer = Tokenizer(num_words =max_vocab_size)\r\n",
        "tokenizer.fit_on_texts(x_train)\r\n",
        "sequence_train = tokenizer.texts_to_sequences(x_train)\r\n",
        "sequence_text = tokenizer.texts_to_sequences(x_test)\r\n"
      ],
      "execution_count": 47,
      "outputs": []
    },
    {
      "cell_type": "code",
      "metadata": {
        "colab": {
          "base_uri": "https://localhost:8080/"
        },
        "id": "6bY5Y1xqSIGc",
        "outputId": "4f7d5e7a-b698-4dd8-a106-d4fe564c879d"
      },
      "source": [
        "sequence_train[0]"
      ],
      "execution_count": 48,
      "outputs": [
        {
          "output_type": "execute_result",
          "data": {
            "text/plain": [
              "[638,\n",
              " 285,\n",
              " 1538,\n",
              " 916,\n",
              " 18,\n",
              " 485,\n",
              " 1859,\n",
              " 299,\n",
              " 775,\n",
              " 1300,\n",
              " 158,\n",
              " 37,\n",
              " 1301,\n",
              " 46,\n",
              " 16,\n",
              " 720,\n",
              " 18,\n",
              " 776,\n",
              " 25,\n",
              " 835,\n",
              " 3519]"
            ]
          },
          "metadata": {
            "tags": []
          },
          "execution_count": 48
        }
      ]
    },
    {
      "cell_type": "code",
      "metadata": {
        "id": "2aWW1NEvQoKn",
        "colab": {
          "base_uri": "https://localhost:8080/"
        },
        "outputId": "cb86fae5-0675-4760-b22b-df2a0013fb70"
      },
      "source": [
        "len(sequence_train[0])"
      ],
      "execution_count": 49,
      "outputs": [
        {
          "output_type": "execute_result",
          "data": {
            "text/plain": [
              "21"
            ]
          },
          "metadata": {
            "tags": []
          },
          "execution_count": 49
        }
      ]
    },
    {
      "cell_type": "code",
      "metadata": {
        "id": "gd_yU4hVQoNu",
        "colab": {
          "base_uri": "https://localhost:8080/"
        },
        "outputId": "abdb7ad8-b6c3-47ef-c898-287eb74c9af6"
      },
      "source": [
        "len(sequence_train[1])"
      ],
      "execution_count": 50,
      "outputs": [
        {
          "output_type": "execute_result",
          "data": {
            "text/plain": [
              "22"
            ]
          },
          "metadata": {
            "tags": []
          },
          "execution_count": 50
        }
      ]
    },
    {
      "cell_type": "code",
      "metadata": {
        "id": "YiFsdEoXQoP7",
        "colab": {
          "base_uri": "https://localhost:8080/"
        },
        "outputId": "2957f732-0c2a-40f8-9666-b6bdbd7f554f"
      },
      "source": [
        "# vocabulary \r\n",
        "\r\n",
        "word2idx = tokenizer.word_index\r\n",
        "v = len(word2idx)\r\n",
        "print('Total number of unique tokens are: %s' %v)"
      ],
      "execution_count": 51,
      "outputs": [
        {
          "output_type": "stream",
          "text": [
            "Total number of unique tokens are: 7408\n"
          ],
          "name": "stdout"
        }
      ]
    },
    {
      "cell_type": "code",
      "metadata": {
        "colab": {
          "base_uri": "https://localhost:8080/"
        },
        "id": "ZF43LCtBWzE9",
        "outputId": "6c2c5b10-2558-4666-8d35-255d91309ff5"
      },
      "source": [
        "# pad sequences to get N x T matrix \r\n",
        "\r\n",
        "data_train = pad_sequences(sequence_train)\r\n",
        "print('Shape of data train tensor :',data_train.shape)"
      ],
      "execution_count": 52,
      "outputs": [
        {
          "output_type": "stream",
          "text": [
            "Shape of data train tensor : (3900, 189)\n"
          ],
          "name": "stdout"
        }
      ]
    },
    {
      "cell_type": "code",
      "metadata": {
        "colab": {
          "base_uri": "https://localhost:8080/"
        },
        "id": "K1Th7JGrWzHQ",
        "outputId": "bf42c414-54e0-45da-dacc-50f610b8a21a"
      },
      "source": [
        "data_train[0]"
      ],
      "execution_count": 53,
      "outputs": [
        {
          "output_type": "execute_result",
          "data": {
            "text/plain": [
              "array([   0,    0,    0,    0,    0,    0,    0,    0,    0,    0,    0,\n",
              "          0,    0,    0,    0,    0,    0,    0,    0,    0,    0,    0,\n",
              "          0,    0,    0,    0,    0,    0,    0,    0,    0,    0,    0,\n",
              "          0,    0,    0,    0,    0,    0,    0,    0,    0,    0,    0,\n",
              "          0,    0,    0,    0,    0,    0,    0,    0,    0,    0,    0,\n",
              "          0,    0,    0,    0,    0,    0,    0,    0,    0,    0,    0,\n",
              "          0,    0,    0,    0,    0,    0,    0,    0,    0,    0,    0,\n",
              "          0,    0,    0,    0,    0,    0,    0,    0,    0,    0,    0,\n",
              "          0,    0,    0,    0,    0,    0,    0,    0,    0,    0,    0,\n",
              "          0,    0,    0,    0,    0,    0,    0,    0,    0,    0,    0,\n",
              "          0,    0,    0,    0,    0,    0,    0,    0,    0,    0,    0,\n",
              "          0,    0,    0,    0,    0,    0,    0,    0,    0,    0,    0,\n",
              "          0,    0,    0,    0,    0,    0,    0,    0,    0,    0,    0,\n",
              "          0,    0,    0,    0,    0,    0,    0,    0,    0,    0,    0,\n",
              "          0,    0,    0,    0,    0,    0,    0,    0,    0,    0,    0,\n",
              "          0,    0,    0,  638,  285, 1538,  916,   18,  485, 1859,  299,\n",
              "        775, 1300,  158,   37, 1301,   46,   16,  720,   18,  776,   25,\n",
              "        835, 3519], dtype=int32)"
            ]
          },
          "metadata": {
            "tags": []
          },
          "execution_count": 53
        }
      ]
    },
    {
      "cell_type": "code",
      "metadata": {
        "colab": {
          "base_uri": "https://localhost:8080/"
        },
        "id": "hmpTDLbeWzI-",
        "outputId": "8a76d0fc-dff6-4597-b91e-e8b686dcf12a"
      },
      "source": [
        "len(data_train[0])"
      ],
      "execution_count": 54,
      "outputs": [
        {
          "output_type": "execute_result",
          "data": {
            "text/plain": [
              "189"
            ]
          },
          "metadata": {
            "tags": []
          },
          "execution_count": 54
        }
      ]
    },
    {
      "cell_type": "code",
      "metadata": {
        "colab": {
          "base_uri": "https://localhost:8080/"
        },
        "id": "dJApDeQgWzLG",
        "outputId": "40f38032-33d2-42b2-887e-7e2070745433"
      },
      "source": [
        "len(data_train[1])"
      ],
      "execution_count": 55,
      "outputs": [
        {
          "output_type": "execute_result",
          "data": {
            "text/plain": [
              "189"
            ]
          },
          "metadata": {
            "tags": []
          },
          "execution_count": 55
        }
      ]
    },
    {
      "cell_type": "code",
      "metadata": {
        "colab": {
          "base_uri": "https://localhost:8080/"
        },
        "id": "njLkFy10WzMy",
        "outputId": "81db29a0-369a-4b8a-98ce-026841050c36"
      },
      "source": [
        "# set the value of T to get sequence length \r\n",
        "\r\n",
        "T = data_train.shape[1]\r\n",
        "print(T)"
      ],
      "execution_count": 56,
      "outputs": [
        {
          "output_type": "stream",
          "text": [
            "189\n"
          ],
          "name": "stdout"
        }
      ]
    },
    {
      "cell_type": "code",
      "metadata": {
        "colab": {
          "base_uri": "https://localhost:8080/"
        },
        "id": "qeyEfqTyWzO0",
        "outputId": "7fcf5f4c-1c94-488f-c7a9-18a9260baa72"
      },
      "source": [
        "# pad sequence to test set\r\n",
        "\r\n",
        "data_test = pad_sequences(sequence_text,maxlen=T)\r\n",
        "#maxlen = T to truncate longer sentences in text set \r\n",
        "print('shape of data test tensor',data_text.shape)"
      ],
      "execution_count": 57,
      "outputs": [
        {
          "output_type": "stream",
          "text": [
            "shape of data test tensor (1672, 189)\n"
          ],
          "name": "stdout"
        }
      ]
    },
    {
      "cell_type": "code",
      "metadata": {
        "id": "pQ8e_4lJYd1q"
      },
      "source": [
        "# Building the model\r\n",
        "\r\n",
        "# create the model\r\n",
        "\r\n",
        "# choose embedding dimensionality \r\n",
        "D = 20 # this is a hyper parameter , we can choose any word vector size that we want\r\n",
        "\r\n",
        "# input layer \r\n",
        "\r\n",
        "i= Input(shape=(T,)) #input layer takes in sequence of integers so shape is T\r\n",
        "\r\n",
        "#Embedding layer \r\n",
        "\r\n",
        "x = Embedding (v+1,D)(i) # this takes in sequence of integers and returns sequence of word vectors \r\n",
        "# this will be an N x T x D array \r\n",
        "# we want size of embedding to (v+1)xn because first word index starts from 1 and not 0\r\n",
        "\r\n",
        "# First CNN layer \r\n",
        "\r\n",
        "x= Conv1D(32,3,activation='relu')(x)\r\n",
        "x=MaxPooling1D(3)(x)\r\n",
        "\r\n",
        "# second CNN layer \r\n",
        "\r\n",
        "x= Conv1D(64,3, activation='relu')(x)\r\n",
        "x= MaxPooling1D(3)(x)\r\n",
        "\r\n",
        "# Third CNN layer \r\n",
        "x= Conv1D(128,3,activation='relu')(x)\r\n",
        "x= GlobalMaxPool1D()(x)\r\n",
        "\r\n",
        "# dense layer \r\n",
        "\r\n",
        "x = Dense (1,activation='sigmoid')(x)\r\n",
        "\r\n",
        "model =  Model(i,x)\r\n"
      ],
      "execution_count": 58,
      "outputs": []
    },
    {
      "cell_type": "code",
      "metadata": {
        "id": "Y8m7aeZ7WzQj"
      },
      "source": [
        "# compile the model\r\n",
        "\r\n",
        "model.compile(optimizer='adam', loss= 'binary_crossentropy',metrics=['accuracy'])"
      ],
      "execution_count": 59,
      "outputs": []
    },
    {
      "cell_type": "code",
      "metadata": {
        "colab": {
          "base_uri": "https://localhost:8080/"
        },
        "id": "0LRqOVsObNtP",
        "outputId": "ba4168bb-2d00-4ca6-f29e-5cb167dc7ce6"
      },
      "source": [
        "# train the model\r\n",
        "\r\n",
        "r = model.fit(x=data_train,y=y_train,epochs=5,validation_data=(data_test,y_test))"
      ],
      "execution_count": 60,
      "outputs": [
        {
          "output_type": "stream",
          "text": [
            "Epoch 1/5\n",
            "122/122 [==============================] - 3s 19ms/step - loss: 0.4702 - accuracy: 0.8502 - val_loss: 0.2758 - val_accuracy: 0.8618\n",
            "Epoch 2/5\n",
            "122/122 [==============================] - 2s 17ms/step - loss: 0.1536 - accuracy: 0.9306 - val_loss: 0.0800 - val_accuracy: 0.9797\n",
            "Epoch 3/5\n",
            "122/122 [==============================] - 2s 17ms/step - loss: 0.0169 - accuracy: 0.9962 - val_loss: 0.0713 - val_accuracy: 0.9785\n",
            "Epoch 4/5\n",
            "122/122 [==============================] - 2s 18ms/step - loss: 0.0060 - accuracy: 0.9997 - val_loss: 0.0752 - val_accuracy: 0.9833\n",
            "Epoch 5/5\n",
            "122/122 [==============================] - 2s 17ms/step - loss: 0.0020 - accuracy: 0.9994 - val_loss: 0.0683 - val_accuracy: 0.9844\n"
          ],
          "name": "stdout"
        }
      ]
    },
    {
      "cell_type": "code",
      "metadata": {
        "id": "gtyXOJ3WbNvs",
        "colab": {
          "base_uri": "https://localhost:8080/",
          "height": 265
        },
        "outputId": "f5ed67e5-4fa2-4563-aa7c-a9dd03440f8e"
      },
      "source": [
        "# loss per iteration \r\n",
        "\r\n",
        "import matplotlib.pyplot as plt\r\n",
        "plt.plot(r.history['loss'],label='Loss)')\r\n",
        "plt.plot(r.history['val_loss'],label='Validation Loss)')\r\n",
        "plt.legend()\r\n",
        "plt.show()"
      ],
      "execution_count": 61,
      "outputs": [
        {
          "output_type": "display_data",
          "data": {
            "image/png": "[encoded data removed]",
            "text/plain": [
              "<Figure size 432x288 with 1 Axes>"
            ]
          },
          "metadata": {
            "tags": [],
            "needs_background": "light"
          }
        }
      ]
    },
    {
      "cell_type": "code",
      "metadata": {
        "id": "QsBkZd38bNxj",
        "colab": {
          "base_uri": "https://localhost:8080/",
          "height": 265
        },
        "outputId": "793a852f-0f06-470c-b7d9-ec829c0c0c0d"
      },
      "source": [
        "# accuracy per iteration\r\n",
        "\r\n",
        "plt.plot(r.history['accuracy'],label='Accuracy)')\r\n",
        "plt.plot(r.history['val_accuracy'],label='Validation accuracy)')\r\n",
        "plt.legend()\r\n",
        "plt.show()"
      ],
      "execution_count": 62,
      "outputs": [
        {
          "output_type": "display_data",
          "data": {
            "image/png": "[encoded data removed]",
            "text/plain": [
              "<Figure size 432x288 with 1 Axes>"
            ]
          },
          "metadata": {
            "tags": [],
            "needs_background": "light"
          }
        }
      ]
    },
    {
      "cell_type": "markdown",
      "metadata": {
        "id": "N5rX69oXa_Ra"
      },
      "source": [
        "# Spam Detetection using RNN"
      ]
    },
    {
      "cell_type": "code",
      "metadata": {
        "id": "7G_TNQiqbNzR"
      },
      "source": [
        "# Building model with RNN\r\n",
        "\r\n",
        "from tensorflow.keras.layers import LSTM, Embedding\r\n",
        "from tensorflow.keras.layers import GlobalMaxPooling1D"
      ],
      "execution_count": 67,
      "outputs": []
    },
    {
      "cell_type": "code",
      "metadata": {
        "id": "_Py_EenTQoRz"
      },
      "source": [
        "# Choose embedding dimensionality \r\n",
        "\r\n",
        "D = 20 # this is a hyper parameter we can choose any word vector size that we want \r\n",
        "\r\n",
        "# Hidden state vectorsize  (dimensionality)\r\n",
        "\r\n",
        "M = 15\r\n",
        "\r\n",
        "# input Layer \r\n",
        "\r\n",
        "i = Input(shape=(T,)) # input layer takes in sequences of integers so shape is T\r\n",
        "\r\n",
        "# Embedding layer \r\n",
        "\r\n",
        "x = Embedding(v+1,D)(i) # this takes in sequence of intergers and returns sequences of word vectors\r\n",
        "# this will be an N*T*D array \r\n",
        "# we want size of embedding to (v+1)x D, because first word index starts from 1 and not 0\r\n",
        "\r\n",
        "# LSTM layer \r\n",
        "\r\n",
        "x = LSTM(M, return_sequences = True)(x) # not dealing with encoder / decoder \r\n",
        "x = GlobalMaxPooling1D()(x)\r\n",
        "\r\n",
        "# Dense Layer \r\n",
        "x = Dense(1,activation='sigmoid')(x)\r\n",
        "# it is an binary classification problem so we are using activation function ='sigmoid\r\n",
        "\r\n",
        "model = Model(i,x)"
      ],
      "execution_count": 68,
      "outputs": []
    },
    {
      "cell_type": "code",
      "metadata": {
        "id": "MeL7Rlvba9YH"
      },
      "source": [
        "# compile the model\r\n",
        "\r\n",
        "model.compile(optimizer='adam', loss= 'binary_crossentropy',metrics=['accuracy'])"
      ],
      "execution_count": 69,
      "outputs": []
    },
    {
      "cell_type": "code",
      "metadata": {
        "colab": {
          "base_uri": "https://localhost:8080/"
        },
        "id": "zglt1FfYa9al",
        "outputId": "ac9da378-13e6-4c00-8228-c88431025a08"
      },
      "source": [
        "# train the model\r\n",
        "\r\n",
        "rnn = model.fit(x=data_train,y=y_train,epochs=5,validation_data=(data_test,y_test))"
      ],
      "execution_count": 70,
      "outputs": [
        {
          "output_type": "stream",
          "text": [
            "Epoch 1/5\n",
            "122/122 [==============================] - 10s 70ms/step - loss: 0.5638 - accuracy: 0.8017 - val_loss: 0.3310 - val_accuracy: 0.8618\n",
            "Epoch 2/5\n",
            "122/122 [==============================] - 8s 65ms/step - loss: 0.2803 - accuracy: 0.8727 - val_loss: 0.2144 - val_accuracy: 0.9516\n",
            "Epoch 3/5\n",
            "122/122 [==============================] - 8s 66ms/step - loss: 0.1572 - accuracy: 0.9789 - val_loss: 0.1282 - val_accuracy: 0.9809\n",
            "Epoch 4/5\n",
            "122/122 [==============================] - 8s 66ms/step - loss: 0.0974 - accuracy: 0.9905 - val_loss: 0.0900 - val_accuracy: 0.9856\n",
            "Epoch 5/5\n",
            "122/122 [==============================] - 8s 66ms/step - loss: 0.0581 - accuracy: 0.9968 - val_loss: 0.0757 - val_accuracy: 0.9862\n"
          ],
          "name": "stdout"
        }
      ]
    },
    {
      "cell_type": "code",
      "metadata": {
        "colab": {
          "base_uri": "https://localhost:8080/",
          "height": 265
        },
        "id": "N_OcVcB2a9c9",
        "outputId": "7f2fa223-5d8c-47d2-b3bb-d0786511fa62"
      },
      "source": [
        "# loss per iteration \r\n",
        "\r\n",
        "import matplotlib.pyplot as plt\r\n",
        "plt.plot(rnn.history['loss'],label='Loss)')\r\n",
        "plt.plot(rnn.history['val_loss'],label='Validation Loss)')\r\n",
        "plt.legend()\r\n",
        "plt.show()"
      ],
      "execution_count": 72,
      "outputs": [
        {
          "output_type": "display_data",
          "data": {
            "image/png": "[encoded data removed]",
            "text/plain": [
              "<Figure size 432x288 with 1 Axes>"
            ]
          },
          "metadata": {
            "tags": [],
            "needs_background": "light"
          }
        }
      ]
    },
    {
      "cell_type": "code",
      "metadata": {
        "colab": {
          "base_uri": "https://localhost:8080/",
          "height": 265
        },
        "id": "9jFtOYYJa9fA",
        "outputId": "0b12aed4-5e66-4a60-d974-3d7e6b7d955a"
      },
      "source": [
        "# accuracy per iteration\r\n",
        "\r\n",
        "plt.plot(rnn.history['accuracy'],label='Accuracy)')\r\n",
        "plt.plot(rnn.history['val_accuracy'],label='Validation accuracy)')\r\n",
        "plt.legend()\r\n",
        "plt.show()"
      ],
      "execution_count": 73,
      "outputs": [
        {
          "output_type": "display_data",
          "data": {
            "image/png": "[encoded data removed]",
            "text/plain": [
              "<Figure size 432x288 with 1 Axes>"
            ]
          },
          "metadata": {
            "tags": [],
            "needs_background": "light"
          }
        }
      ]
    }
  ]
}