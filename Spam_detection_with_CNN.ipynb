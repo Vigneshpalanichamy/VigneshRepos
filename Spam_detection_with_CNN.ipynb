{
  "nbformat": 4,
  "nbformat_minor": 0,
  "metadata": {
    "colab": {
      "name": "Spam detection with CNN.ipynb",
      "provenance": []
    },
    "kernelspec": {
      "name": "python3",
      "display_name": "Python 3"
    }
  },
  "cells": [
    {
      "cell_type": "code",
      "metadata": {
        "colab": {
          "base_uri": "https://localhost:8080/"
        },
        "id": "FyD6w_wfNxlX",
        "outputId": "560fa597-40ac-43a1-8d6e-be2b8fb3ab57"
      },
      "source": [
        "# import the libraries \r\n",
        "\r\n",
        "import tensorflow as tf\r\n",
        "print(tf.__version__)"
      ],
      "execution_count": 3,
      "outputs": [
        {
          "output_type": "stream",
          "text": [
            "2.4.0\n"
          ],
          "name": "stdout"
        }
      ]
    },
    {
      "cell_type": "code",
      "metadata": {
        "id": "RLxZUF85QoI7"
      },
      "source": [
        "import numpy as np\r\n",
        "import pandas as pd\r\n",
        "import matplotlib.pyplot as plt"
      ],
      "execution_count": 4,
      "outputs": []
    },
    {
      "cell_type": "code",
      "metadata": {
        "id": "WANqtAUCSH6v"
      },
      "source": [
        "# to split train and test \r\n",
        "\r\n",
        "from sklearn.model_selection import train_test_split"
      ],
      "execution_count": 5,
      "outputs": []
    },
    {
      "cell_type": "code",
      "metadata": {
        "id": "JqcaMAyOSH8_"
      },
      "source": [
        "# import Tensorflow libraries \r\n",
        "\r\n",
        "from tensorflow.keras.preprocessing.text import Tokenizer\r\n",
        "from tensorflow.keras.preprocessing.sequence import pad_sequences\r\n",
        "from tensorflow.keras.layers import Dense , Input ,GlobalMaxPool1D\r\n",
        "from tensorflow.keras.layers import Conv1D , MaxPooling1D, Embedding\r\n",
        "from tensorflow.keras.models import Model"
      ],
      "execution_count": 6,
      "outputs": []
    },
    {
      "cell_type": "code",
      "metadata": {
        "id": "Eqt9ARMcSH-2"
      },
      "source": [
        "df = pd.read_csv('/content/spam.csv',encoding='ISO-8859-1')"
      ],
      "execution_count": 7,
      "outputs": []
    },
    {
      "cell_type": "code",
      "metadata": {
        "colab": {
          "base_uri": "https://localhost:8080/",
          "height": 206
        },
        "id": "Suc_NARaSIAy",
        "outputId": "ce30a437-2ab5-44e9-fed5-3fe6bdeb1d8f"
      },
      "source": [
        "df.head()"
      ],
      "execution_count": 8,
      "outputs": [
        {
          "output_type": "execute_result",
          "data": {
            "text/html": [
              "<div>\n",
              "<style scoped>\n",
              "    .dataframe tbody tr th:only-of-type {\n",
              "        vertical-align: middle;\n",
              "    }\n",
              "\n",
              "    .dataframe tbody tr th {\n",
              "        vertical-align: top;\n",
              "    }\n",
              "\n",
              "    .dataframe thead th {\n",
              "        text-align: right;\n",
              "    }\n",
              "</style>\n",
              "<table border=\"1\" class=\"dataframe\">\n",
              "  <thead>\n",
              "    <tr style=\"text-align: right;\">\n",
              "      <th></th>\n",
              "      <th>v1</th>\n",
              "      <th>v2</th>\n",
              "      <th>Unnamed: 2</th>\n",
              "      <th>Unnamed: 3</th>\n",
              "      <th>Unnamed: 4</th>\n",
              "    </tr>\n",
              "  </thead>\n",
              "  <tbody>\n",
              "    <tr>\n",
              "      <th>0</th>\n",
              "      <td>ham</td>\n",
              "      <td>Go until jurong point, crazy.. Available only ...</td>\n",
              "      <td>NaN</td>\n",
              "      <td>NaN</td>\n",
              "      <td>NaN</td>\n",
              "    </tr>\n",
              "    <tr>\n",
              "      <th>1</th>\n",
              "      <td>ham</td>\n",
              "      <td>Ok lar... Joking wif u oni...</td>\n",
              "      <td>NaN</td>\n",
              "      <td>NaN</td>\n",
              "      <td>NaN</td>\n",
              "    </tr>\n",
              "    <tr>\n",
              "      <th>2</th>\n",
              "      <td>spam</td>\n",
              "      <td>Free entry in 2 a wkly comp to win FA Cup fina...</td>\n",
              "      <td>NaN</td>\n",
              "      <td>NaN</td>\n",
              "      <td>NaN</td>\n",
              "    </tr>\n",
              "    <tr>\n",
              "      <th>3</th>\n",
              "      <td>ham</td>\n",
              "      <td>U dun say so early hor... U c already then say...</td>\n",
              "      <td>NaN</td>\n",
              "      <td>NaN</td>\n",
              "      <td>NaN</td>\n",
              "    </tr>\n",
              "    <tr>\n",
              "      <th>4</th>\n",
              "      <td>ham</td>\n",
              "      <td>Nah I don't think he goes to usf, he lives aro...</td>\n",
              "      <td>NaN</td>\n",
              "      <td>NaN</td>\n",
              "      <td>NaN</td>\n",
              "    </tr>\n",
              "  </tbody>\n",
              "</table>\n",
              "</div>"
            ],
            "text/plain": [
              "     v1  ... Unnamed: 4\n",
              "0   ham  ...        NaN\n",
              "1   ham  ...        NaN\n",
              "2  spam  ...        NaN\n",
              "3   ham  ...        NaN\n",
              "4   ham  ...        NaN\n",
              "\n",
              "[5 rows x 5 columns]"
            ]
          },
          "metadata": {
            "tags": []
          },
          "execution_count": 8
        }
      ]
    },
    {
      "cell_type": "code",
      "metadata": {
        "id": "M2LN3SZZSIC1"
      },
      "source": [
        "df = df.drop([\"Unnamed: 2\",\"Unnamed: 3\",\"Unnamed: 4\"],axis=1)"
      ],
      "execution_count": 9,
      "outputs": []
    },
    {
      "cell_type": "code",
      "metadata": {
        "colab": {
          "base_uri": "https://localhost:8080/",
          "height": 206
        },
        "id": "vEhWNGFFSIEr",
        "outputId": "2dd4123e-e53e-4583-9004-8df2d9483af0"
      },
      "source": [
        "df.head()"
      ],
      "execution_count": 10,
      "outputs": [
        {
          "output_type": "execute_result",
          "data": {
            "text/html": [
              "<div>\n",
              "<style scoped>\n",
              "    .dataframe tbody tr th:only-of-type {\n",
              "        vertical-align: middle;\n",
              "    }\n",
              "\n",
              "    .dataframe tbody tr th {\n",
              "        vertical-align: top;\n",
              "    }\n",
              "\n",
              "    .dataframe thead th {\n",
              "        text-align: right;\n",
              "    }\n",
              "</style>\n",
              "<table border=\"1\" class=\"dataframe\">\n",
              "  <thead>\n",
              "    <tr style=\"text-align: right;\">\n",
              "      <th></th>\n",
              "      <th>v1</th>\n",
              "      <th>v2</th>\n",
              "    </tr>\n",
              "  </thead>\n",
              "  <tbody>\n",
              "    <tr>\n",
              "      <th>0</th>\n",
              "      <td>ham</td>\n",
              "      <td>Go until jurong point, crazy.. Available only ...</td>\n",
              "    </tr>\n",
              "    <tr>\n",
              "      <th>1</th>\n",
              "      <td>ham</td>\n",
              "      <td>Ok lar... Joking wif u oni...</td>\n",
              "    </tr>\n",
              "    <tr>\n",
              "      <th>2</th>\n",
              "      <td>spam</td>\n",
              "      <td>Free entry in 2 a wkly comp to win FA Cup fina...</td>\n",
              "    </tr>\n",
              "    <tr>\n",
              "      <th>3</th>\n",
              "      <td>ham</td>\n",
              "      <td>U dun say so early hor... U c already then say...</td>\n",
              "    </tr>\n",
              "    <tr>\n",
              "      <th>4</th>\n",
              "      <td>ham</td>\n",
              "      <td>Nah I don't think he goes to usf, he lives aro...</td>\n",
              "    </tr>\n",
              "  </tbody>\n",
              "</table>\n",
              "</div>"
            ],
            "text/plain": [
              "     v1                                                 v2\n",
              "0   ham  Go until jurong point, crazy.. Available only ...\n",
              "1   ham                      Ok lar... Joking wif u oni...\n",
              "2  spam  Free entry in 2 a wkly comp to win FA Cup fina...\n",
              "3   ham  U dun say so early hor... U c already then say...\n",
              "4   ham  Nah I don't think he goes to usf, he lives aro..."
            ]
          },
          "metadata": {
            "tags": []
          },
          "execution_count": 10
        }
      ]
    },
    {
      "cell_type": "code",
      "metadata": {
        "id": "z5FwHS_DUqn7"
      },
      "source": [
        "df.columns = ['labels','data']"
      ],
      "execution_count": 11,
      "outputs": []
    },
    {
      "cell_type": "code",
      "metadata": {
        "colab": {
          "base_uri": "https://localhost:8080/",
          "height": 206
        },
        "id": "V3vMf8gtUqq1",
        "outputId": "1f72a6a7-8b3b-4ea4-db01-696c97711653"
      },
      "source": [
        "df.head()"
      ],
      "execution_count": 12,
      "outputs": [
        {
          "output_type": "execute_result",
          "data": {
            "text/html": [
              "<div>\n",
              "<style scoped>\n",
              "    .dataframe tbody tr th:only-of-type {\n",
              "        vertical-align: middle;\n",
              "    }\n",
              "\n",
              "    .dataframe tbody tr th {\n",
              "        vertical-align: top;\n",
              "    }\n",
              "\n",
              "    .dataframe thead th {\n",
              "        text-align: right;\n",
              "    }\n",
              "</style>\n",
              "<table border=\"1\" class=\"dataframe\">\n",
              "  <thead>\n",
              "    <tr style=\"text-align: right;\">\n",
              "      <th></th>\n",
              "      <th>labels</th>\n",
              "      <th>data</th>\n",
              "    </tr>\n",
              "  </thead>\n",
              "  <tbody>\n",
              "    <tr>\n",
              "      <th>0</th>\n",
              "      <td>ham</td>\n",
              "      <td>Go until jurong point, crazy.. Available only ...</td>\n",
              "    </tr>\n",
              "    <tr>\n",
              "      <th>1</th>\n",
              "      <td>ham</td>\n",
              "      <td>Ok lar... Joking wif u oni...</td>\n",
              "    </tr>\n",
              "    <tr>\n",
              "      <th>2</th>\n",
              "      <td>spam</td>\n",
              "      <td>Free entry in 2 a wkly comp to win FA Cup fina...</td>\n",
              "    </tr>\n",
              "    <tr>\n",
              "      <th>3</th>\n",
              "      <td>ham</td>\n",
              "      <td>U dun say so early hor... U c already then say...</td>\n",
              "    </tr>\n",
              "    <tr>\n",
              "      <th>4</th>\n",
              "      <td>ham</td>\n",
              "      <td>Nah I don't think he goes to usf, he lives aro...</td>\n",
              "    </tr>\n",
              "  </tbody>\n",
              "</table>\n",
              "</div>"
            ],
            "text/plain": [
              "  labels                                               data\n",
              "0    ham  Go until jurong point, crazy.. Available only ...\n",
              "1    ham                      Ok lar... Joking wif u oni...\n",
              "2   spam  Free entry in 2 a wkly comp to win FA Cup fina...\n",
              "3    ham  U dun say so early hor... U c already then say...\n",
              "4    ham  Nah I don't think he goes to usf, he lives aro..."
            ]
          },
          "metadata": {
            "tags": []
          },
          "execution_count": 12
        }
      ]
    },
    {
      "cell_type": "code",
      "metadata": {
        "id": "LiJdZQytUqtR"
      },
      "source": [
        "# Create binary labels (0 and 1)\r\n",
        "\r\n",
        "df['b_labels']=df['labels'].map({'ham':0,'spam':1})\r\n",
        "y = df['b_labels'].values"
      ],
      "execution_count": 13,
      "outputs": []
    },
    {
      "cell_type": "code",
      "metadata": {
        "colab": {
          "base_uri": "https://localhost:8080/"
        },
        "id": "G8sC8dtfUqvg",
        "outputId": "df07e7fa-8099-48c1-9e90-5136bf69bf7d"
      },
      "source": [
        "y"
      ],
      "execution_count": 14,
      "outputs": [
        {
          "output_type": "execute_result",
          "data": {
            "text/plain": [
              "array([0, 0, 1, ..., 0, 0, 0])"
            ]
          },
          "metadata": {
            "tags": []
          },
          "execution_count": 14
        }
      ]
    },
    {
      "cell_type": "code",
      "metadata": {
        "id": "rHXx6oSUUqxU"
      },
      "source": [
        "# split the data \r\n",
        "\r\n",
        "x_train,x_test,y_train,y_test = train_test_split(df['data'],y,test_size=0.3)"
      ],
      "execution_count": 15,
      "outputs": []
    },
    {
      "cell_type": "code",
      "metadata": {
        "id": "2Nsr0aeIUqzq"
      },
      "source": [
        "# Convert sentence to sequence \r\n",
        "# bag of words\r\n",
        "max_vocab_size = 20000\r\n",
        "tokenizer = Tokenizer(num_words =max_vocab_size)\r\n",
        "tokenizer.fit_on_texts(x_train)\r\n",
        "sequence_train = tokenizer.texts_to_sequences(x_train)\r\n",
        "sequence_text = tokenizer.texts_to_sequences(x_test)\r\n"
      ],
      "execution_count": 16,
      "outputs": []
    },
    {
      "cell_type": "code",
      "metadata": {
        "colab": {
          "base_uri": "https://localhost:8080/"
        },
        "id": "6bY5Y1xqSIGc",
        "outputId": "46e95eb0-5fc9-42b5-ec2f-aa719bbc5e79"
      },
      "source": [
        "sequence_train[0]"
      ],
      "execution_count": 17,
      "outputs": [
        {
          "output_type": "execute_result",
          "data": {
            "text/plain": [
              "[3505, 2355, 3506]"
            ]
          },
          "metadata": {
            "tags": []
          },
          "execution_count": 17
        }
      ]
    },
    {
      "cell_type": "code",
      "metadata": {
        "id": "2aWW1NEvQoKn",
        "colab": {
          "base_uri": "https://localhost:8080/"
        },
        "outputId": "f423a17d-f48b-4fa5-bcd6-e3dbc7b497b8"
      },
      "source": [
        "len(sequence_train[0])"
      ],
      "execution_count": 18,
      "outputs": [
        {
          "output_type": "execute_result",
          "data": {
            "text/plain": [
              "3"
            ]
          },
          "metadata": {
            "tags": []
          },
          "execution_count": 18
        }
      ]
    },
    {
      "cell_type": "code",
      "metadata": {
        "id": "gd_yU4hVQoNu",
        "colab": {
          "base_uri": "https://localhost:8080/"
        },
        "outputId": "b8125d83-cab5-4924-9659-972cf316e270"
      },
      "source": [
        "len(sequence_train[1])"
      ],
      "execution_count": 19,
      "outputs": [
        {
          "output_type": "execute_result",
          "data": {
            "text/plain": [
              "12"
            ]
          },
          "metadata": {
            "tags": []
          },
          "execution_count": 19
        }
      ]
    },
    {
      "cell_type": "code",
      "metadata": {
        "id": "YiFsdEoXQoP7",
        "colab": {
          "base_uri": "https://localhost:8080/"
        },
        "outputId": "3310af46-6a86-44b8-b4e9-64e365963b37"
      },
      "source": [
        "# vocabulary \r\n",
        "\r\n",
        "word2idx = tokenizer.word_index\r\n",
        "v = len(word2idx)\r\n",
        "print('Total number of unique tokens are: %s' %v)"
      ],
      "execution_count": 20,
      "outputs": [
        {
          "output_type": "stream",
          "text": [
            "Total number of unique tokens are: 7299\n"
          ],
          "name": "stdout"
        }
      ]
    },
    {
      "cell_type": "code",
      "metadata": {
        "colab": {
          "base_uri": "https://localhost:8080/"
        },
        "id": "ZF43LCtBWzE9",
        "outputId": "2f644d3e-5ac9-41a1-e0b3-c52209d5a5a0"
      },
      "source": [
        "# pad sequences to get N x T matrix \r\n",
        "\r\n",
        "data_train = pad_sequences(sequence_train)\r\n",
        "print('Shape of data train tensor :',data_train.shape)"
      ],
      "execution_count": 21,
      "outputs": [
        {
          "output_type": "stream",
          "text": [
            "Shape of data train tensor : (3900, 189)\n"
          ],
          "name": "stdout"
        }
      ]
    },
    {
      "cell_type": "code",
      "metadata": {
        "colab": {
          "base_uri": "https://localhost:8080/"
        },
        "id": "K1Th7JGrWzHQ",
        "outputId": "740311b5-9b48-4699-cb32-4660630e2935"
      },
      "source": [
        "data_train[0]"
      ],
      "execution_count": 22,
      "outputs": [
        {
          "output_type": "execute_result",
          "data": {
            "text/plain": [
              "array([   0,    0,    0,    0,    0,    0,    0,    0,    0,    0,    0,\n",
              "          0,    0,    0,    0,    0,    0,    0,    0,    0,    0,    0,\n",
              "          0,    0,    0,    0,    0,    0,    0,    0,    0,    0,    0,\n",
              "          0,    0,    0,    0,    0,    0,    0,    0,    0,    0,    0,\n",
              "          0,    0,    0,    0,    0,    0,    0,    0,    0,    0,    0,\n",
              "          0,    0,    0,    0,    0,    0,    0,    0,    0,    0,    0,\n",
              "          0,    0,    0,    0,    0,    0,    0,    0,    0,    0,    0,\n",
              "          0,    0,    0,    0,    0,    0,    0,    0,    0,    0,    0,\n",
              "          0,    0,    0,    0,    0,    0,    0,    0,    0,    0,    0,\n",
              "          0,    0,    0,    0,    0,    0,    0,    0,    0,    0,    0,\n",
              "          0,    0,    0,    0,    0,    0,    0,    0,    0,    0,    0,\n",
              "          0,    0,    0,    0,    0,    0,    0,    0,    0,    0,    0,\n",
              "          0,    0,    0,    0,    0,    0,    0,    0,    0,    0,    0,\n",
              "          0,    0,    0,    0,    0,    0,    0,    0,    0,    0,    0,\n",
              "          0,    0,    0,    0,    0,    0,    0,    0,    0,    0,    0,\n",
              "          0,    0,    0,    0,    0,    0,    0,    0,    0,    0,    0,\n",
              "          0,    0,    0,    0,    0,    0,    0,    0,    0,    0, 3505,\n",
              "       2355, 3506], dtype=int32)"
            ]
          },
          "metadata": {
            "tags": []
          },
          "execution_count": 22
        }
      ]
    },
    {
      "cell_type": "code",
      "metadata": {
        "colab": {
          "base_uri": "https://localhost:8080/"
        },
        "id": "hmpTDLbeWzI-",
        "outputId": "e9da31a6-3439-4fd1-9539-c0d6595a692b"
      },
      "source": [
        "len(data_train[0])"
      ],
      "execution_count": 23,
      "outputs": [
        {
          "output_type": "execute_result",
          "data": {
            "text/plain": [
              "189"
            ]
          },
          "metadata": {
            "tags": []
          },
          "execution_count": 23
        }
      ]
    },
    {
      "cell_type": "code",
      "metadata": {
        "colab": {
          "base_uri": "https://localhost:8080/"
        },
        "id": "dJApDeQgWzLG",
        "outputId": "496067e6-1f13-4336-ef8e-58fa3653ce50"
      },
      "source": [
        "len(data_train[1])"
      ],
      "execution_count": 24,
      "outputs": [
        {
          "output_type": "execute_result",
          "data": {
            "text/plain": [
              "189"
            ]
          },
          "metadata": {
            "tags": []
          },
          "execution_count": 24
        }
      ]
    },
    {
      "cell_type": "code",
      "metadata": {
        "colab": {
          "base_uri": "https://localhost:8080/"
        },
        "id": "njLkFy10WzMy",
        "outputId": "49d717c2-01c7-4a87-af8d-446733ebc3fc"
      },
      "source": [
        "# set the value of T to get sequence length \r\n",
        "\r\n",
        "T = data_train.shape[1]\r\n",
        "print(T)"
      ],
      "execution_count": 25,
      "outputs": [
        {
          "output_type": "stream",
          "text": [
            "189\n"
          ],
          "name": "stdout"
        }
      ]
    },
    {
      "cell_type": "code",
      "metadata": {
        "colab": {
          "base_uri": "https://localhost:8080/"
        },
        "id": "qeyEfqTyWzO0",
        "outputId": "2289e540-aabb-48ed-8329-657aa4dcc833"
      },
      "source": [
        "# pad sequence to test set\r\n",
        "\r\n",
        "data_test = pad_sequences(sequence_text,maxlen=T)\r\n",
        "#maxlen = T to truncate longer sentences in text set \r\n",
        "print('shape of data test tensor',data_text.shape)"
      ],
      "execution_count": 30,
      "outputs": [
        {
          "output_type": "stream",
          "text": [
            "shape of data test tensor (1672, 189)\n"
          ],
          "name": "stdout"
        }
      ]
    },
    {
      "cell_type": "code",
      "metadata": {
        "id": "pQ8e_4lJYd1q"
      },
      "source": [
        "# Building the model\r\n",
        "\r\n",
        "# create the model\r\n",
        "\r\n",
        "# choose embedding dimensionality \r\n",
        "D = 20 # this is a hyper parameter , we can choose any word vector size that we want\r\n",
        "\r\n",
        "# input layer \r\n",
        "\r\n",
        "i= Input(shape=(T,)) #input layer takes in sequence of integers so shape is T\r\n",
        "\r\n",
        "#Embedding layer \r\n",
        "\r\n",
        "x = Embedding (v+1,D)(i) # this takes in sequence of integers and returns sequence of word vectors \r\n",
        "# this will be an N x T x D array \r\n",
        "# we want size of embedding to (v+1)xn because first word index starts from 1 and not 0\r\n",
        "\r\n",
        "# First CNN layer \r\n",
        "\r\n",
        "x= Conv1D(32,3,activation='relu')(x)\r\n",
        "x=MaxPooling1D(3)(x)\r\n",
        "\r\n",
        "# second CNN layer \r\n",
        "\r\n",
        "x= Conv1D(64,3, activation='relu')(x)\r\n",
        "x= MaxPooling1D(3)(x)\r\n",
        "\r\n",
        "# Third CNN layer \r\n",
        "x= Conv1D(128,3,activation='relu')(x)\r\n",
        "x= GlobalMaxPool1D()(x)\r\n",
        "\r\n",
        "# dense layer \r\n",
        "\r\n",
        "x = Dense (1,activation='sigmoid')(x)\r\n",
        "\r\n",
        "model =  Model(i,x)\r\n"
      ],
      "execution_count": 27,
      "outputs": []
    },
    {
      "cell_type": "code",
      "metadata": {
        "id": "Y8m7aeZ7WzQj"
      },
      "source": [
        "# compile the model\r\n",
        "\r\n",
        "model.compile(optimizer='adam', loss= 'binary_crossentropy',metrics=['accuracy'])"
      ],
      "execution_count": 28,
      "outputs": []
    },
    {
      "cell_type": "code",
      "metadata": {
        "colab": {
          "base_uri": "https://localhost:8080/"
        },
        "id": "0LRqOVsObNtP",
        "outputId": "b2ff0567-018d-435c-ceab-4617c5c5b1fb"
      },
      "source": [
        "# train the model\r\n",
        "\r\n",
        "r = model.fit(x=data_train,y=y_train,epochs=5,validation_data=(data_test,y_test))"
      ],
      "execution_count": 31,
      "outputs": [
        {
          "output_type": "stream",
          "text": [
            "Epoch 1/5\n",
            "122/122 [==============================] - 3s 20ms/step - loss: 0.4767 - accuracy: 0.8402 - val_loss: 0.2650 - val_accuracy: 0.8714\n",
            "Epoch 2/5\n",
            "122/122 [==============================] - 2s 18ms/step - loss: 0.1852 - accuracy: 0.9132 - val_loss: 0.0576 - val_accuracy: 0.9850\n",
            "Epoch 3/5\n",
            "122/122 [==============================] - 2s 18ms/step - loss: 0.0185 - accuracy: 0.9955 - val_loss: 0.0666 - val_accuracy: 0.9868\n",
            "Epoch 4/5\n",
            "122/122 [==============================] - 2s 18ms/step - loss: 0.0044 - accuracy: 0.9988 - val_loss: 0.0492 - val_accuracy: 0.9886\n",
            "Epoch 5/5\n",
            "122/122 [==============================] - 2s 18ms/step - loss: 0.0020 - accuracy: 0.9996 - val_loss: 0.0576 - val_accuracy: 0.9892\n"
          ],
          "name": "stdout"
        }
      ]
    },
    {
      "cell_type": "code",
      "metadata": {
        "id": "gtyXOJ3WbNvs",
        "colab": {
          "base_uri": "https://localhost:8080/",
          "height": 265
        },
        "outputId": "bd7b3f69-abd2-49ce-cc24-4efa533331fd"
      },
      "source": [
        "# loss per iteration \r\n",
        "\r\n",
        "import matplotlib.pyplot as plt\r\n",
        "plt.plot(r.history['loss'],label='Loss)')\r\n",
        "plt.plot(r.history['val_loss'],label='Validation Loss)')\r\n",
        "plt.legend()\r\n",
        "plt.show()"
      ],
      "execution_count": 32,
      "outputs": [
        {
          "output_type": "display_data",
          "data": {
            "image/png": "[encoded data removed]",
            "text/plain": [
              "<Figure size 432x288 with 1 Axes>"
            ]
          },
          "metadata": {
            "tags": [],
            "needs_background": "light"
          }
        }
      ]
    },
    {
      "cell_type": "code",
      "metadata": {
        "id": "QsBkZd38bNxj",
        "colab": {
          "base_uri": "https://localhost:8080/",
          "height": 265
        },
        "outputId": "0e28da60-c0fd-471d-e490-d6ae2e0d9ee6"
      },
      "source": [
        "# accuracy per iteration\r\n",
        "\r\n",
        "plt.plot(r.history['accuracy'],label='Accuracy)')\r\n",
        "plt.plot(r.history['val_accuracy'],label='Validation accuracy)')\r\n",
        "plt.legend()\r\n",
        "plt.show()"
      ],
      "execution_count": 33,
      "outputs": [
        {
          "output_type": "display_data",
          "data": {
            "image/png": "[encoded data removed]",
            "text/plain": [
              "<Figure size 432x288 with 1 Axes>"
            ]
          },
          "metadata": {
            "tags": [],
            "needs_background": "light"
          }
        }
      ]
    }
  ]
}