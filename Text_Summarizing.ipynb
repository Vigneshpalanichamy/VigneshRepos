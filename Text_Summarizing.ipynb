{
  "nbformat": 4,
  "nbformat_minor": 0,
  "metadata": {
    "colab": {
      "name": "Text Summarizing.ipynb",
      "provenance": [],
      "collapsed_sections": []
    },
    "kernelspec": {
      "name": "python3",
      "display_name": "Python 3"
    }
  },
  "cells": [
    {
      "cell_type": "markdown",
      "metadata": {
        "id": "GZIeA0mVIw7N"
      },
      "source": [
        "To pick up some important sentence through automated NLP process"
      ]
    },
    {
      "cell_type": "code",
      "metadata": {
        "id": "J3KAP6uRGmsk"
      },
      "source": [
        "text= \"\"\"Maria Sharapova has basically no friends as tennis players on the WTA Tour. The Russian player has no problems in openly speaking about it and in a recent interview she said: 'I don't really hide any feelings too much.\r\n",
        "I think everyone knows this is my job here. When I'm on the courts or when I'm on the court playing, I'm a competitor and I want to beat every single person whether they're in the locker room or across the net.\r\n",
        "So I'm not the one to strike up a conversation about the weather and know that in the next few minutes I have to go and try to win a tennis match. \r\n",
        "I'm a pretty competitive girl. I say my hellos, but I'm not sending any players flowers as well.Uhm, I'm not really friendly or close to many players. \r\n",
        "I have not a lot of friends away from the courts.' When she said she is not really close to a lot of players, is that something strategic that she is doing? Is it different on the men's tour than the women's tour? 'No, not at all.\r\n",
        "I think just because you're in the same sport doesn't mean that you have to be friends with everyone just because you're categorized, you're a tennis player, so you're going to get along with tennis players.\r\n",
        "I think every person has different interests. I have friends that have completely different jobs and interests, and I've met them in very different parts of my life. \r\n",
        "I think everyone just thinks because we're tennis players we should be the greatest of friends.But ultimately tennis is just a very small part of what we do. \r\n",
        "There are so many other things that we're interested in, that we do.\"\"\""
      ],
      "execution_count": 2,
      "outputs": []
    },
    {
      "cell_type": "code",
      "metadata": {
        "colab": {
          "base_uri": "https://localhost:8080/"
        },
        "id": "6W309rX8Io2l",
        "outputId": "c4fb6b01-3613-4123-c63a-6bee0d37f380"
      },
      "source": [
        "# check characters in the text \r\n",
        "\r\n",
        "len(text)"
      ],
      "execution_count": 3,
      "outputs": [
        {
          "output_type": "execute_result",
          "data": {
            "text/plain": [
              "1563"
            ]
          },
          "metadata": {
            "tags": []
          },
          "execution_count": 3
        }
      ]
    },
    {
      "cell_type": "code",
      "metadata": {
        "id": "Zh4OSuZ1Io4c"
      },
      "source": [
        "#import the libraries and Dataset\r\n",
        "\r\n",
        "import spacy \r\n",
        "from spacy.lang.en.stop_words import STOP_WORDS\r\n",
        "from string import punctuation"
      ],
      "execution_count": 4,
      "outputs": []
    },
    {
      "cell_type": "code",
      "metadata": {
        "id": "3jz8WYfCJXkj"
      },
      "source": [
        "nlp = spacy.load(\"en_core_web_sm\")"
      ],
      "execution_count": 5,
      "outputs": []
    },
    {
      "cell_type": "code",
      "metadata": {
        "id": "YRLio-BgJXnC"
      },
      "source": [
        "doc = nlp(text)"
      ],
      "execution_count": 6,
      "outputs": []
    },
    {
      "cell_type": "code",
      "metadata": {
        "colab": {
          "base_uri": "https://localhost:8080/"
        },
        "id": "DyzbOKWXJXpU",
        "outputId": "ae7d430d-f30f-4b1b-efa8-57ed70c6e334"
      },
      "source": [
        "tokens = [token.text for token in doc]\r\n",
        "print(tokens)"
      ],
      "execution_count": 7,
      "outputs": [
        {
          "output_type": "stream",
          "text": [
            "['Maria', 'Sharapova', 'has', 'basically', 'no', 'friends', 'as', 'tennis', 'players', 'on', 'the', 'WTA', 'Tour', '.', 'The', 'Russian', 'player', 'has', 'no', 'problems', 'in', 'openly', 'speaking', 'about', 'it', 'and', 'in', 'a', 'recent', 'interview', 'she', 'said', ':', \"'\", 'I', 'do', \"n't\", 'really', 'hide', 'any', 'feelings', 'too', 'much', '.', '\\n', 'I', 'think', 'everyone', 'knows', 'this', 'is', 'my', 'job', 'here', '.', 'When', 'I', \"'m\", 'on', 'the', 'courts', 'or', 'when', 'I', \"'m\", 'on', 'the', 'court', 'playing', ',', 'I', \"'m\", 'a', 'competitor', 'and', 'I', 'want', 'to', 'beat', 'every', 'single', 'person', 'whether', 'they', \"'re\", 'in', 'the', 'locker', 'room', 'or', 'across', 'the', 'net', '.', '\\n', 'So', 'I', \"'m\", 'not', 'the', 'one', 'to', 'strike', 'up', 'a', 'conversation', 'about', 'the', 'weather', 'and', 'know', 'that', 'in', 'the', 'next', 'few', 'minutes', 'I', 'have', 'to', 'go', 'and', 'try', 'to', 'win', 'a', 'tennis', 'match', '.', '\\n', 'I', \"'m\", 'a', 'pretty', 'competitive', 'girl', '.', 'I', 'say', 'my', 'hellos', ',', 'but', 'I', \"'m\", 'not', 'sending', 'any', 'players', 'flowers', 'as', 'well', '.', 'Uhm', ',', 'I', \"'m\", 'not', 'really', 'friendly', 'or', 'close', 'to', 'many', 'players', '.', '\\n', 'I', 'have', 'not', 'a', 'lot', 'of', 'friends', 'away', 'from', 'the', 'courts', '.', \"'\", 'When', 'she', 'said', 'she', 'is', 'not', 'really', 'close', 'to', 'a', 'lot', 'of', 'players', ',', 'is', 'that', 'something', 'strategic', 'that', 'she', 'is', 'doing', '?', 'Is', 'it', 'different', 'on', 'the', 'men', \"'s\", 'tour', 'than', 'the', 'women', \"'s\", 'tour', '?', \"'\", 'No', ',', 'not', 'at', 'all', '.', '\\n', 'I', 'think', 'just', 'because', 'you', \"'re\", 'in', 'the', 'same', 'sport', 'does', \"n't\", 'mean', 'that', 'you', 'have', 'to', 'be', 'friends', 'with', 'everyone', 'just', 'because', 'you', \"'re\", 'categorized', ',', 'you', \"'re\", 'a', 'tennis', 'player', ',', 'so', 'you', \"'re\", 'going', 'to', 'get', 'along', 'with', 'tennis', 'players', '.', '\\n', 'I', 'think', 'every', 'person', 'has', 'different', 'interests', '.', 'I', 'have', 'friends', 'that', 'have', 'completely', 'different', 'jobs', 'and', 'interests', ',', 'and', 'I', \"'ve\", 'met', 'them', 'in', 'very', 'different', 'parts', 'of', 'my', 'life', '.', '\\n', 'I', 'think', 'everyone', 'just', 'thinks', 'because', 'we', \"'re\", 'tennis', 'players', 'we', 'should', 'be', 'the', 'greatest', 'of', 'friends', '.', 'But', 'ultimately', 'tennis', 'is', 'just', 'a', 'very', 'small', 'part', 'of', 'what', 'we', 'do', '.', '\\n', 'There', 'are', 'so', 'many', 'other', 'things', 'that', 'we', \"'re\", 'interested', 'in', ',', 'that', 'we', 'do', '.']\n"
          ],
          "name": "stdout"
        }
      ]
    },
    {
      "cell_type": "code",
      "metadata": {
        "id": "Pxb1DfrXJXru"
      },
      "source": [
        "punctuation = punctuation +\"\\n\"+''"
      ],
      "execution_count": 14,
      "outputs": []
    },
    {
      "cell_type": "code",
      "metadata": {
        "colab": {
          "base_uri": "https://localhost:8080/",
          "height": 36
        },
        "id": "7Fblmr6CJXt-",
        "outputId": "18e92329-34ba-4442-c67d-0890fc74dfeb"
      },
      "source": [
        "punctuation"
      ],
      "execution_count": 15,
      "outputs": [
        {
          "output_type": "execute_result",
          "data": {
            "application/vnd.google.colaboratory.intrinsic+json": {
              "type": "string"
            },
            "text/plain": [
              "'!\"#$%&\\'()*+,-./:;<=>?@[\\\\]^_`{|}~\\n\\n'"
            ]
          },
          "metadata": {
            "tags": []
          },
          "execution_count": 15
        }
      ]
    },
    {
      "cell_type": "code",
      "metadata": {
        "id": "xtibadfKJXwE"
      },
      "source": [
        "# Text cleaning \r\n",
        "# give score for sentence and find out highest scores \r\n",
        "#highest scores - Text summarization\r\n",
        "# how to find the highest score - create word frequency and how many times the word occurs "
      ],
      "execution_count": 10,
      "outputs": []
    },
    {
      "cell_type": "code",
      "metadata": {
        "id": "z5jx98PhJXys"
      },
      "source": [
        "# create dictory with key and value \r\n",
        "\r\n",
        "word_freq ={}\r\n",
        "\r\n",
        "stopwords = list(STOP_WORDS)\r\n",
        "\r\n",
        "for word in doc:\r\n",
        "  if word.text.lower() not in stopwords:\r\n",
        "    if word.text.lower() not in punctuation:\r\n",
        "      if word.text not in word_freq.keys():\r\n",
        "        word_freq[word.text]=1\r\n",
        "      else:\r\n",
        "        word_freq[word.text]+=1"
      ],
      "execution_count": 17,
      "outputs": []
    },
    {
      "cell_type": "code",
      "metadata": {
        "colab": {
          "base_uri": "https://localhost:8080/"
        },
        "id": "xAbf3RSYIo6f",
        "outputId": "398fec0c-2db6-4170-936a-93ac0a6ec3b3"
      },
      "source": [
        "print(word_freq)"
      ],
      "execution_count": 18,
      "outputs": [
        {
          "output_type": "stream",
          "text": [
            "{'Maria': 1, 'Sharapova': 1, 'basically': 1, 'friends': 5, 'tennis': 6, 'players': 6, 'WTA': 1, 'Tour': 1, 'Russian': 1, 'player': 2, 'problems': 1, 'openly': 1, 'speaking': 1, 'recent': 1, 'interview': 1, 'said': 2, 'hide': 1, 'feelings': 1, 'think': 4, 'knows': 1, 'job': 1, 'courts': 2, 'court': 1, 'playing': 1, 'competitor': 1, 'want': 1, 'beat': 1, 'single': 1, 'person': 2, 'locker': 1, 'room': 1, 'net': 1, 'strike': 1, 'conversation': 1, 'weather': 1, 'know': 1, 'minutes': 1, 'try': 1, 'win': 1, 'match': 1, 'pretty': 1, 'competitive': 1, 'girl': 1, 'hellos': 1, 'sending': 1, 'flowers': 1, 'Uhm': 1, 'friendly': 1, 'close': 2, 'lot': 2, 'away': 1, 'strategic': 1, 'different': 4, 'men': 1, 'tour': 2, 'women': 1, 'sport': 1, 'mean': 1, 'categorized': 1, 'going': 1, 'interests': 2, 'completely': 1, 'jobs': 1, 'met': 1, 'parts': 1, 'life': 1, 'thinks': 1, 'greatest': 1, 'ultimately': 1, 'small': 1, 'things': 1, 'interested': 1}\n"
          ],
          "name": "stdout"
        }
      ]
    },
    {
      "cell_type": "code",
      "metadata": {
        "colab": {
          "base_uri": "https://localhost:8080/"
        },
        "id": "n2i6m4slIo8s",
        "outputId": "c552c562-a2f5-4e42-cc07-f3a529c9425b"
      },
      "source": [
        "print(max(word_freq))"
      ],
      "execution_count": 19,
      "outputs": [
        {
          "output_type": "stream",
          "text": [
            "women\n"
          ],
          "name": "stdout"
        }
      ]
    },
    {
      "cell_type": "code",
      "metadata": {
        "id": "XBWpcYhnIo-s"
      },
      "source": [
        "max_freq = max(word_freq.values())"
      ],
      "execution_count": 20,
      "outputs": []
    },
    {
      "cell_type": "code",
      "metadata": {
        "id": "QOHDHxBtIpAw"
      },
      "source": [
        "for word in word_freq.keys():\r\n",
        "  word_freq[word] = word_freq[word]/max_freq"
      ],
      "execution_count": 21,
      "outputs": []
    },
    {
      "cell_type": "code",
      "metadata": {
        "colab": {
          "base_uri": "https://localhost:8080/"
        },
        "id": "FHmSuXuBIpCs",
        "outputId": "cb63e474-3d69-4f05-e528-0797ff539d5b"
      },
      "source": [
        "print(word_freq)"
      ],
      "execution_count": 22,
      "outputs": [
        {
          "output_type": "stream",
          "text": [
            "{'Maria': 0.16666666666666666, 'Sharapova': 0.16666666666666666, 'basically': 0.16666666666666666, 'friends': 0.8333333333333334, 'tennis': 1.0, 'players': 1.0, 'WTA': 0.16666666666666666, 'Tour': 0.16666666666666666, 'Russian': 0.16666666666666666, 'player': 0.3333333333333333, 'problems': 0.16666666666666666, 'openly': 0.16666666666666666, 'speaking': 0.16666666666666666, 'recent': 0.16666666666666666, 'interview': 0.16666666666666666, 'said': 0.3333333333333333, 'hide': 0.16666666666666666, 'feelings': 0.16666666666666666, 'think': 0.6666666666666666, 'knows': 0.16666666666666666, 'job': 0.16666666666666666, 'courts': 0.3333333333333333, 'court': 0.16666666666666666, 'playing': 0.16666666666666666, 'competitor': 0.16666666666666666, 'want': 0.16666666666666666, 'beat': 0.16666666666666666, 'single': 0.16666666666666666, 'person': 0.3333333333333333, 'locker': 0.16666666666666666, 'room': 0.16666666666666666, 'net': 0.16666666666666666, 'strike': 0.16666666666666666, 'conversation': 0.16666666666666666, 'weather': 0.16666666666666666, 'know': 0.16666666666666666, 'minutes': 0.16666666666666666, 'try': 0.16666666666666666, 'win': 0.16666666666666666, 'match': 0.16666666666666666, 'pretty': 0.16666666666666666, 'competitive': 0.16666666666666666, 'girl': 0.16666666666666666, 'hellos': 0.16666666666666666, 'sending': 0.16666666666666666, 'flowers': 0.16666666666666666, 'Uhm': 0.16666666666666666, 'friendly': 0.16666666666666666, 'close': 0.3333333333333333, 'lot': 0.3333333333333333, 'away': 0.16666666666666666, 'strategic': 0.16666666666666666, 'different': 0.6666666666666666, 'men': 0.16666666666666666, 'tour': 0.3333333333333333, 'women': 0.16666666666666666, 'sport': 0.16666666666666666, 'mean': 0.16666666666666666, 'categorized': 0.16666666666666666, 'going': 0.16666666666666666, 'interests': 0.3333333333333333, 'completely': 0.16666666666666666, 'jobs': 0.16666666666666666, 'met': 0.16666666666666666, 'parts': 0.16666666666666666, 'life': 0.16666666666666666, 'thinks': 0.16666666666666666, 'greatest': 0.16666666666666666, 'ultimately': 0.16666666666666666, 'small': 0.16666666666666666, 'things': 0.16666666666666666, 'interested': 0.16666666666666666}\n"
          ],
          "name": "stdout"
        }
      ]
    },
    {
      "cell_type": "code",
      "metadata": {
        "colab": {
          "base_uri": "https://localhost:8080/"
        },
        "id": "E8kOGT6EIpEo",
        "outputId": "b3818587-608f-4455-a296-bcaf77ff4cdc"
      },
      "source": [
        "# sentence tokenization\r\n",
        "sent_tokens=[sent for sent in doc.sents]\r\n",
        "print(sent_tokens)\r\n"
      ],
      "execution_count": 23,
      "outputs": [
        {
          "output_type": "stream",
          "text": [
            "[Maria Sharapova has basically no friends as tennis players on the WTA Tour., The Russian player has no problems in openly speaking about it and, in a recent interview she said: 'I don't really hide any feelings too much.\n",
            ", I think everyone knows this is my job here., When I'm on the courts or when I'm on the court playing, I'm a competitor, and I want to beat every single person whether they're in the locker room or across the net.\n",
            ", So I'm not the one to strike up a conversation about the weather and know that in the next few minutes I have to go and try to win a tennis match. \n",
            ", I'm a pretty competitive girl., I say my hellos, but I'm not sending any players flowers as well., Uhm, I'm not really friendly or close to many players. \n",
            ", I have not a lot of friends away from the courts.', When she said she is not really close to a lot of players, is that something strategic that she is doing?, Is it different on the men's tour than the women's tour? ', No, not at all.\n",
            ", I think just because you're in the same sport doesn't mean that you have to be friends with everyone just because you're categorized, you're a tennis player, so you're going to get along with tennis players.\n",
            ", I think every person has different interests., I have friends that have completely different jobs and interests, and I've met them in very different parts of my life. \n",
            ", I think everyone just thinks because we're tennis players, we should be the greatest of friends., But ultimately tennis is just a very small part of what we do. \n",
            ", There are so many other things that we're interested in, that we do.]\n"
          ],
          "name": "stdout"
        }
      ]
    },
    {
      "cell_type": "code",
      "metadata": {
        "id": "Y-TGz6gfMawT"
      },
      "source": [
        "# score for every sentence \r\n",
        "# individual sentence key and value \r\n",
        "sent_score ={}\r\n",
        "\r\n",
        "for sent in sent_tokens:\r\n",
        "  for word in sent:\r\n",
        "    if word.text.lower() in word_freq.keys():\r\n",
        "      if sent not in sent_score.keys():\r\n",
        "        sent_score[sent] = word_freq[word.text.lower()]\r\n",
        "      else:\r\n",
        "        sent_score[sent] += word_freq[word.text.lower()]\r\n"
      ],
      "execution_count": 29,
      "outputs": []
    },
    {
      "cell_type": "code",
      "metadata": {
        "colab": {
          "base_uri": "https://localhost:8080/"
        },
        "id": "VGgR8hcHMayz",
        "outputId": "4cae2f8c-9da0-49cb-9801-22115347ac4d"
      },
      "source": [
        "print(sent_score)"
      ],
      "execution_count": 30,
      "outputs": [
        {
          "output_type": "stream",
          "text": [
            "{Maria Sharapova has basically no friends as tennis players on the WTA Tour.: 3.3333333333333335, The Russian player has no problems in openly speaking about it and: 0.8333333333333333, in a recent interview she said: 'I don't really hide any feelings too much.\n",
            ": 0.9999999999999999, I think everyone knows this is my job here.: 0.9999999999999999, When I'm on the courts or when I'm on the court playing, I'm a competitor: 0.8333333333333333, and I want to beat every single person whether they're in the locker room or across the net.\n",
            ": 1.3333333333333333, So I'm not the one to strike up a conversation about the weather and know that in the next few minutes I have to go and try to win a tennis match. \n",
            ": 2.333333333333333, I'm a pretty competitive girl.: 0.5, I say my hellos, but I'm not sending any players flowers as well.: 1.5, Uhm, I'm not really friendly or close to many players. \n",
            ": 1.5, I have not a lot of friends away from the courts.': 1.6666666666666667, When she said she is not really close to a lot of players, is that something strategic that she is doing?: 2.1666666666666665, Is it different on the men's tour than the women's tour? ': 1.6666666666666665, I think just because you're in the same sport doesn't mean that you have to be friends with everyone just because you're categorized, you're a tennis player, so you're going to get along with tennis players.\n",
            ": 5.5, I think every person has different interests.: 1.9999999999999998, I have friends that have completely different jobs and interests, and I've met them in very different parts of my life. \n",
            ": 3.3333333333333326, I think everyone just thinks because we're tennis players: 2.833333333333333, we should be the greatest of friends.: 1.0, But ultimately tennis is just a very small part of what we do. \n",
            ": 1.3333333333333335, There are so many other things that we're interested in, that we do.: 0.3333333333333333}\n"
          ],
          "name": "stdout"
        }
      ]
    },
    {
      "cell_type": "code",
      "metadata": {
        "id": "CofsirvVMa1N"
      },
      "source": [
        "# select 30% sentences with maximum score \r\n",
        "\r\n",
        "from heapq import nlargest "
      ],
      "execution_count": 31,
      "outputs": []
    },
    {
      "cell_type": "code",
      "metadata": {
        "colab": {
          "base_uri": "https://localhost:8080/"
        },
        "id": "mFcsQJxKMa3V",
        "outputId": "b814b37c-b206-41b6-dddf-2cdc955f26f8"
      },
      "source": [
        "len(sent_score)*0.4"
      ],
      "execution_count": 43,
      "outputs": [
        {
          "output_type": "execute_result",
          "data": {
            "text/plain": [
              "8.0"
            ]
          },
          "metadata": {
            "tags": []
          },
          "execution_count": 43
        }
      ]
    },
    {
      "cell_type": "code",
      "metadata": {
        "colab": {
          "base_uri": "https://localhost:8080/"
        },
        "id": "2o3GKzvjMa8g",
        "outputId": "f46d0214-b809-40ac-ee7d-321eacd291fa"
      },
      "source": [
        "# Getting the summary \r\n",
        "\r\n",
        "summary=nlargest (n = 8 , iterable = sent_score,key=sent_score.get)\r\n",
        "\r\n",
        "print(summary)"
      ],
      "execution_count": 36,
      "outputs": [
        {
          "output_type": "stream",
          "text": [
            "[I think just because you're in the same sport doesn't mean that you have to be friends with everyone just because you're categorized, you're a tennis player, so you're going to get along with tennis players.\n",
            ", Maria Sharapova has basically no friends as tennis players on the WTA Tour., I have friends that have completely different jobs and interests, and I've met them in very different parts of my life. \n",
            ", I think everyone just thinks because we're tennis players, So I'm not the one to strike up a conversation about the weather and know that in the next few minutes I have to go and try to win a tennis match. \n",
            ", When she said she is not really close to a lot of players, is that something strategic that she is doing?, I think every person has different interests., I have not a lot of friends away from the courts.']\n"
          ],
          "name": "stdout"
        }
      ]
    },
    {
      "cell_type": "code",
      "metadata": {
        "colab": {
          "base_uri": "https://localhost:8080/"
        },
        "id": "s_e5tXmGMa-w",
        "outputId": "caa3864b-dec8-427c-cea8-cf12b64d9878"
      },
      "source": [
        "final_summary = [word.text for word in summary]\r\n",
        "\r\n",
        "print(final_summary)"
      ],
      "execution_count": 38,
      "outputs": [
        {
          "output_type": "stream",
          "text": [
            "[\"I think just because you're in the same sport doesn't mean that you have to be friends with everyone just because you're categorized, you're a tennis player, so you're going to get along with tennis players.\\n\", 'Maria Sharapova has basically no friends as tennis players on the WTA Tour.', \"I have friends that have completely different jobs and interests, and I've met them in very different parts of my life. \\n\", \"I think everyone just thinks because we're tennis players\", \"So I'm not the one to strike up a conversation about the weather and know that in the next few minutes I have to go and try to win a tennis match. \\n\", 'When she said she is not really close to a lot of players, is that something strategic that she is doing?', 'I think every person has different interests.', \"I have not a lot of friends away from the courts.'\"]\n"
          ],
          "name": "stdout"
        }
      ]
    },
    {
      "cell_type": "code",
      "metadata": {
        "colab": {
          "base_uri": "https://localhost:8080/"
        },
        "id": "1nI8u4acMbAk",
        "outputId": "b0446a10-e83f-4ed1-f7e4-b0436f4dd39f"
      },
      "source": [
        "summary= \" \" .join(final_summary)\r\n",
        "print(summary)"
      ],
      "execution_count": 39,
      "outputs": [
        {
          "output_type": "stream",
          "text": [
            "I think just because you're in the same sport doesn't mean that you have to be friends with everyone just because you're categorized, you're a tennis player, so you're going to get along with tennis players.\n",
            " Maria Sharapova has basically no friends as tennis players on the WTA Tour. I have friends that have completely different jobs and interests, and I've met them in very different parts of my life. \n",
            " I think everyone just thinks because we're tennis players So I'm not the one to strike up a conversation about the weather and know that in the next few minutes I have to go and try to win a tennis match. \n",
            " When she said she is not really close to a lot of players, is that something strategic that she is doing? I think every person has different interests. I have not a lot of friends away from the courts.'\n"
          ],
          "name": "stdout"
        }
      ]
    },
    {
      "cell_type": "code",
      "metadata": {
        "colab": {
          "base_uri": "https://localhost:8080/"
        },
        "id": "oDCeOE68PONv",
        "outputId": "36ae69f4-02b6-4d6c-a107-20318f625716"
      },
      "source": [
        "print(len(summary))"
      ],
      "execution_count": 40,
      "outputs": [
        {
          "output_type": "stream",
          "text": [
            "816\n"
          ],
          "name": "stdout"
        }
      ]
    },
    {
      "cell_type": "code",
      "metadata": {
        "colab": {
          "base_uri": "https://localhost:8080/"
        },
        "id": "_FEYAOhAPRbW",
        "outputId": "cbe196f0-7823-45bb-e1cc-1472c00ef4f7"
      },
      "source": [
        "len(summary)/len(text)"
      ],
      "execution_count": 41,
      "outputs": [
        {
          "output_type": "execute_result",
          "data": {
            "text/plain": [
              "0.5220729366602687"
            ]
          },
          "metadata": {
            "tags": []
          },
          "execution_count": 41
        }
      ]
    }
  ]
}